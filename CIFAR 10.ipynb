{
 "cells": [
  {
   "cell_type": "code",
   "execution_count": 1,
   "metadata": {
    "scrolled": true
   },
   "outputs": [
    {
     "name": "stdout",
     "output_type": "stream",
     "text": [
      "\u001b[33mYou are using pip version 10.0.1, however version 19.2.3 is available.\r\n",
      "You should consider upgrading via the 'pip install --upgrade pip' command.\u001b[0m\r\n"
     ]
    }
   ],
   "source": [
    "!pip install -q tensorflow-gpu"
   ]
  },
  {
   "cell_type": "code",
   "execution_count": 3,
   "metadata": {},
   "outputs": [],
   "source": [
    "import numpy as np\n",
    "import matplotlib.pyplot as plt\n",
    "\n",
    "import tensorflow as tf\n",
    "from tensorflow.keras.layers import Input, Conv2D, Dense, Flatten, Dropout, GlobalMaxPooling2D, MaxPooling2D, BatchNormalization\n",
    "from tensorflow.keras.models import Model"
   ]
  },
  {
   "cell_type": "code",
   "execution_count": 6,
   "metadata": {},
   "outputs": [],
   "source": [
    "(x_train, y_train), (x_test, y_test) = tf.keras.datasets.cifar10.load_data()\n",
    "\n",
    "x_train, x_test = x_train / 255.0, x_test / 255.0\n",
    "y_train, y_test = y_train.flatten(), y_test.flatten()\n",
    "\n",
    "K = len(set(y_train))"
   ]
  },
  {
   "cell_type": "code",
   "execution_count": 7,
   "metadata": {},
   "outputs": [
    {
     "name": "stderr",
     "output_type": "stream",
     "text": [
      "WARNING: Logging before flag parsing goes to stderr.\n",
      "W1006 11:31:36.290639 140268296271680 deprecation.py:506] From /home/ec2-user/anaconda3/envs/tensorflow_p36/lib/python3.6/site-packages/tensorflow/python/ops/init_ops.py:1251: calling VarianceScaling.__init__ (from tensorflow.python.ops.init_ops) with dtype is deprecated and will be removed in a future version.\n",
      "Instructions for updating:\n",
      "Call initializer instance with the dtype argument instead of passing it to the constructor\n"
     ]
    }
   ],
   "source": [
    "i = Input(shape=x_train[0].shape)\n",
    "\n",
    "x = Conv2D(32, (3, 3), activation='relu', padding='same')(i)\n",
    "x = BatchNormalization()(x)\n",
    "x = Conv2D(32, (3, 3), activation='relu', padding='same')(x)\n",
    "x = BatchNormalization()(x)\n",
    "x = MaxPooling2D((2, 2))(x)\n",
    "\n",
    "x = Conv2D(64, (3, 3), activation='relu', padding='same')(x)\n",
    "x = BatchNormalization()(x)\n",
    "x = Conv2D(64, (3, 3), activation='relu', padding='same')(x)\n",
    "x = BatchNormalization()(x)\n",
    "x = MaxPooling2D((2, 2))(x)\n",
    "\n",
    "x = Conv2D(128, (3, 3), activation='relu', padding='same')(x)\n",
    "x = BatchNormalization()(x)\n",
    "x = Conv2D(128, (3, 3), activation='relu', padding='same')(x)\n",
    "x = BatchNormalization()(x)\n",
    "x = MaxPooling2D((2, 2))(x)\n",
    "\n",
    "x = Flatten()(x)\n",
    "x = Dropout(0.2)(x)\n",
    "x = Dense(1024, activation='relu')(x)\n",
    "x = Dropout(0.2)(x)\n",
    "x = Dense(K, activation='softmax')(x)\n",
    "model = Model(i, x)\n",
    "\n"
   ]
  },
  {
   "cell_type": "code",
   "execution_count": 8,
   "metadata": {},
   "outputs": [
    {
     "name": "stdout",
     "output_type": "stream",
     "text": [
      "Train on 50000 samples, validate on 10000 samples\n",
      "Epoch 1/15\n",
      "50000/50000 [==============================] - 36s 716us/sample - loss: 1.3109 - acc: 0.5473 - val_loss: 1.1021 - val_acc: 0.6075\n",
      "Epoch 2/15\n",
      "50000/50000 [==============================] - 32s 643us/sample - loss: 0.8598 - acc: 0.7013 - val_loss: 0.8352 - val_acc: 0.7153\n",
      "Epoch 3/15\n",
      "50000/50000 [==============================] - 32s 643us/sample - loss: 0.6974 - acc: 0.7614 - val_loss: 0.6987 - val_acc: 0.7602\n",
      "Epoch 4/15\n",
      "50000/50000 [==============================] - 32s 642us/sample - loss: 0.5914 - acc: 0.7974 - val_loss: 0.8266 - val_acc: 0.7255\n",
      "Epoch 5/15\n",
      "50000/50000 [==============================] - 32s 641us/sample - loss: 0.5045 - acc: 0.8264 - val_loss: 0.6207 - val_acc: 0.7995\n",
      "Epoch 6/15\n",
      "50000/50000 [==============================] - 32s 643us/sample - loss: 0.4245 - acc: 0.8545 - val_loss: 0.6974 - val_acc: 0.7851\n",
      "Epoch 7/15\n",
      "50000/50000 [==============================] - 32s 642us/sample - loss: 0.3593 - acc: 0.8764 - val_loss: 0.7685 - val_acc: 0.7685\n",
      "Epoch 8/15\n",
      "50000/50000 [==============================] - 32s 643us/sample - loss: 0.3003 - acc: 0.8973 - val_loss: 0.6369 - val_acc: 0.8059\n",
      "Epoch 9/15\n",
      "50000/50000 [==============================] - 32s 643us/sample - loss: 0.2619 - acc: 0.9098 - val_loss: 0.5959 - val_acc: 0.8264\n",
      "Epoch 10/15\n",
      "50000/50000 [==============================] - 32s 642us/sample - loss: 0.2234 - acc: 0.9241 - val_loss: 0.6941 - val_acc: 0.8047\n",
      "Epoch 11/15\n",
      "50000/50000 [==============================] - 32s 642us/sample - loss: 0.1921 - acc: 0.9342 - val_loss: 0.6741 - val_acc: 0.8181\n",
      "Epoch 12/15\n",
      "50000/50000 [==============================] - 32s 643us/sample - loss: 0.1763 - acc: 0.9408 - val_loss: 0.6962 - val_acc: 0.8176\n",
      "Epoch 13/15\n",
      "50000/50000 [==============================] - 32s 642us/sample - loss: 0.1590 - acc: 0.9466 - val_loss: 0.6796 - val_acc: 0.8293\n",
      "Epoch 14/15\n",
      "50000/50000 [==============================] - 32s 644us/sample - loss: 0.1476 - acc: 0.9493 - val_loss: 0.7530 - val_acc: 0.8288\n",
      "Epoch 15/15\n",
      "50000/50000 [==============================] - 32s 642us/sample - loss: 0.1291 - acc: 0.9556 - val_loss: 0.7801 - val_acc: 0.8143\n"
     ]
    }
   ],
   "source": [
    "model.compile(\n",
    "    optimizer='adam',\n",
    "    loss='sparse_categorical_crossentropy',\n",
    "    metrics=['accuracy'],\n",
    ")\n",
    "\n",
    "r = model.fit(x_train, y_train, validation_data=(x_test, y_test), epochs=15)"
   ]
  },
  {
   "cell_type": "code",
   "execution_count": null,
   "metadata": {},
   "outputs": [],
   "source": [
    "for name, values in r.history.items():\n",
    "    plt.plot(values, label=name)\n",
    "plt.legend()\n",
    "plt.ylim(0, 1)"
   ]
  },
  {
   "cell_type": "code",
   "execution_count": 14,
   "metadata": {},
   "outputs": [
    {
     "name": "stdout",
     "output_type": "stream",
     "text": [
      "Model: \"model_4\"\n",
      "_________________________________________________________________\n",
      "Layer (type)                 Output Shape              Param #   \n",
      "=================================================================\n",
      "input_5 (InputLayer)         [(None, 32, 32, 3)]       0         \n",
      "_________________________________________________________________\n",
      "conv2d_16 (Conv2D)           (None, 32, 32, 128)       3584      \n",
      "_________________________________________________________________\n",
      "batch_normalization_10 (Batc (None, 32, 32, 128)       512       \n",
      "_________________________________________________________________\n",
      "conv2d_17 (Conv2D)           (None, 32, 32, 128)       147584    \n",
      "_________________________________________________________________\n",
      "batch_normalization_11 (Batc (None, 32, 32, 128)       512       \n",
      "_________________________________________________________________\n",
      "max_pooling2d_8 (MaxPooling2 (None, 16, 16, 128)       0         \n",
      "_________________________________________________________________\n",
      "flatten_4 (Flatten)          (None, 32768)             0         \n",
      "_________________________________________________________________\n",
      "dropout_8 (Dropout)          (None, 32768)             0         \n",
      "_________________________________________________________________\n",
      "dense_8 (Dense)              (None, 1024)              33555456  \n",
      "_________________________________________________________________\n",
      "dropout_9 (Dropout)          (None, 1024)              0         \n",
      "_________________________________________________________________\n",
      "dense_9 (Dense)              (None, 10)                10250     \n",
      "=================================================================\n",
      "Total params: 33,717,898\n",
      "Trainable params: 33,717,386\n",
      "Non-trainable params: 512\n",
      "_________________________________________________________________\n"
     ]
    }
   ],
   "source": [
    "model.summary()"
   ]
  },
  {
   "cell_type": "code",
   "execution_count": 4,
   "metadata": {},
   "outputs": [
    {
     "data": {
      "text/plain": [
       "[PhysicalDevice(name='/physical_device:GPU:0', device_type='GPU')]"
      ]
     },
     "execution_count": 4,
     "metadata": {},
     "output_type": "execute_result"
    }
   ],
   "source": [
    "tf.config.experimental.list_physical_devices('GPU')"
   ]
  },
  {
   "cell_type": "code",
   "execution_count": null,
   "metadata": {},
   "outputs": [],
   "source": []
  }
 ],
 "metadata": {
  "kernelspec": {
   "display_name": "conda_tensorflow_p36",
   "language": "python",
   "name": "conda_tensorflow_p36"
  },
  "language_info": {
   "codemirror_mode": {
    "name": "ipython",
    "version": 3
   },
   "file_extension": ".py",
   "mimetype": "text/x-python",
   "name": "python",
   "nbconvert_exporter": "python",
   "pygments_lexer": "ipython3",
   "version": "3.6.5"
  }
 },
 "nbformat": 4,
 "nbformat_minor": 2
}
